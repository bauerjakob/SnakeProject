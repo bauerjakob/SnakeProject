{
 "cells": [
  {
   "attachments": {},
   "cell_type": "markdown",
   "metadata": {},
   "source": [
    "# Snake Multiplayer"
   ]
  },
  {
   "cell_type": "code",
   "execution_count": 3,
   "metadata": {},
   "outputs": [
    {
     "name": "stdout",
     "output_type": "stream",
     "text": [
      "[2, 3, 4]\n"
     ]
    }
   ],
   "source": [
    "l = [1,2,3]\n",
    "l.append(4)\n",
    "l.pop(0)\n",
    "print(l)"
   ]
  },
  {
   "cell_type": "code",
   "execution_count": 109,
   "metadata": {},
   "outputs": [
    {
     "name": "stdout",
     "output_type": "stream",
     "text": [
      "Found serial ports: /dev/cu.usbserial-0001, /dev/cu.AVSamsungSoundbarT4-Ser, /dev/cu.Bluetooth-Incoming-Port, /dev/cu.Jakobthesuperbrain, /dev/cu.OnkyoCR-265, /dev/cu.wlan-debug \n",
      "\u001b[34mConnecting to --port=/dev/cu.usbserial-0001 --baud=115200 \u001b[0m\n",
      "\u001b[34mReady.\n",
      "\u001b[0m"
     ]
    }
   ],
   "source": [
    "%serialconnect"
   ]
  },
  {
   "cell_type": "code",
   "execution_count": 110,
   "metadata": {},
   "outputs": [],
   "source": [
    "import machine\n",
    "import display\n",
    "from time import sleep\n",
    "\n",
    "display = display.Display()"
   ]
  },
  {
   "cell_type": "code",
   "execution_count": 111,
   "metadata": {},
   "outputs": [],
   "source": [
    "class Coordinate:\n",
    "    x: int\n",
    "    y: int\n",
    "\n",
    "    def __init__(self, x, y):\n",
    "        self.x = x\n",
    "        self.y = y\n"
   ]
  },
  {
   "cell_type": "code",
   "execution_count": 112,
   "metadata": {},
   "outputs": [],
   "source": [
    "class Playground:\n",
    "    DISPLAY_WIDTH = 128\n",
    "    DISPLAY_HEIGHT = 64\n",
    "\n",
    "    BLOCK_SIZE = 4\n",
    "\n",
    "    GAME_WIDTH = int(DISPLAY_WIDTH / BLOCK_SIZE)\n",
    "    GAME_HEIGHT = int(DISPLAY_HEIGHT / BLOCK_SIZE)\n",
    "\n",
    "    def __init__(self):\n",
    "        pass\n",
    "\n",
    "    def draw_coordinate(self, coordintate: Coordinate):\n",
    "        display.fill_rect(coordintate.x * self.BLOCK_SIZE, coordintate.y * self.BLOCK_SIZE, self.BLOCK_SIZE , self.BLOCK_SIZE)"
   ]
  },
  {
   "cell_type": "code",
   "execution_count": 113,
   "metadata": {},
   "outputs": [],
   "source": [
    "class Snake:\n",
    "    playground: Playground\n",
    "\n",
    "    tails = []\n",
    "    length = 5\n",
    "    direction = 1 # 0 = up, 1 down, 2 left, 3 right\n",
    "\n",
    "    def __init__(self, playground: Playground, startPos: Coordinate):\n",
    "        self.tails.append(startPos)\n",
    "        self.playground = playground\n",
    "\n",
    "    def change_direction(self, newDirection):\n",
    "        self.direction = newDirection\n",
    "\n",
    "    def moove_snake(self):\n",
    "        head = self.tails[0]\n",
    "        newPos = Coordinate(head.x, head.y)\n",
    "\n",
    "        if (self.direction == 0):\n",
    "            newPos.y = head.y - 1\n",
    "        elif (self.direction == 1):\n",
    "            newPos.y = head.y + 1\n",
    "        elif (self.direction == 2):\n",
    "            newPos.x = head.x - 1\n",
    "        elif (self.direction == 3):\n",
    "            newPos.x = head.x + 1\n",
    "            pass\n",
    "\n",
    "        if (len(self.tails) > self.length):\n",
    "            self.tails.pop()\n",
    "\n",
    "        self.tails.append(newPos)\n",
    "\n",
    "    def draw_snake(self):\n",
    "        for tail in self.tails:\n",
    "            self.playground.draw_coordinate(tail)"
   ]
  },
  {
   "cell_type": "code",
   "execution_count": 114,
   "metadata": {},
   "outputs": [
    {
     "name": "stdout",
     "output_type": "stream",
     "text": [
      ".\u001b[34m\n",
      "\n",
      "*** Sending Ctrl-C\n",
      "\n",
      "\u001b[0m"
     ]
    },
    {
     "name": "stderr",
     "output_type": "stream",
     "text": [
      "Traceback (most recent call last):\n",
      "  File \"<stdin>\", line 13, in <module>\n",
      "KeyboardInterrupt: \n"
     ]
    }
   ],
   "source": [
    "\n",
    "last_pos = 0\n",
    "\n",
    "playground = Playground()\n",
    "startPos = Coordinate(10, 10)\n",
    "snake = Snake(playground, startPos)\n",
    "\n",
    "while True:\n",
    "    display.clear()\n",
    "    snake.moove_snake()\n",
    "    snake.draw_snake()\n",
    "    display.show()\n",
    "    sleep(0.1)"
   ]
  }
 ],
 "metadata": {
  "kernelspec": {
   "display_name": "chatbot-test",
   "language": "python",
   "name": "chatbot-test"
  },
  "language_info": {
   "codemirror_mode": {
    "name": "ipython",
    "version": 3
   },
   "file_extension": ".py",
   "mimetype": "text/x-python",
   "name": "python",
   "nbconvert_exporter": "python",
   "pygments_lexer": "ipython3",
   "version": "3.10.9"
  },
  "orig_nbformat": 4
 },
 "nbformat": 4,
 "nbformat_minor": 2
}
