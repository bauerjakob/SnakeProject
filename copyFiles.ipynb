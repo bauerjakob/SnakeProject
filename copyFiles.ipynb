{
 "cells": [
  {
   "cell_type": "code",
   "execution_count": null,
   "metadata": {
    "vscode": {
     "languageId": "python"
    }
   },
   "outputs": [],
   "source": [
    "%serialconnect\n",
    "\n",
    "%sendtofile  --source ./aioble/__init__.py aioble/__init__.py\n",
    "%sendtofile --source ./aioble/central.py aioble/central.py\n",
    "%sendtofile --source ./aioble/client.py aioble/client.py\n",
    "%sendtofile --source ./aioble/core.py aioble/core.py\n",
    "%sendtofile --source ./aioble/device.py aioble/device.py\n",
    "%sendtofile --source ./aioble/l2cap.py aioble/l2cap.py\n",
    "%sendtofile --source ./aioble/peripheral.py aioble/peripheral.py\n",
    "%sendtofile --source ./aioble/security.py aioble/security.py\n",
    "%sendtofile --source ./aioble/server.py aioble/server.py"
   ]
  },
  {
   "cell_type": "code",
   "execution_count": null,
   "metadata": {
    "vscode": {
     "languageId": "python"
    }
   },
   "outputs": [],
   "source": [
    "%serialconnect\n",
    "import os\n",
    "print(os.listdir(\"/aioble\"))\n",
    "# os.rmdir(\"aioble\")\n",
    "# os.mkdir(\"/aioble\")"
   ]
  }
 ],
 "metadata": {
  "kernelspec": {
   "display_name": "MicroPython - USB",
   "language": "micropython",
   "name": "micropython"
  },
  "language_info": {
   "codemirror_mode": "python",
   "file_extension": ".py",
   "mimetype": "text/python",
   "name": "micropython"
  },
  "orig_nbformat": 4
 },
 "nbformat": 4,
 "nbformat_minor": 2
}
