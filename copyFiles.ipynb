{
 "cells": [
  {
   "cell_type": "code",
   "execution_count": 22,
   "metadata": {
    "vscode": {
     "languageId": "python"
    }
   },
   "outputs": [
    {
     "name": "stdout",
     "output_type": "stream",
     "text": [
      "Sent 344 lines (12626 bytes) to aioble/server.py.\n"
     ]
    }
   ],
   "source": [
    "%serialconnect\n",
    "\n",
    "%sendtofile  --source ./aioble/__init__.py aioble/__init__.py\n",
    "%sendtofile --source ./aioble/central.py aioble/central.py\n",
    "%sendtofile --source ./aioble/client.py aioble/client.py\n",
    "%sendtofile --source ./aioble/core.py aioble/core.py\n",
    "%sendtofile --source ./aioble/device.py aioble/device.py\n",
    "%sendtofile --source ./aioble/l2cap.py aioble/l2cap.py\n",
    "%sendtofile --source ./aioble/peripheral.py aioble/peripheral.py\n",
    "%sendtofile --source ./aioble/security.py aioble/security.py\n",
    "%sendtofile --source ./aioble/server.py aioble/server.py"
   ]
  },
  {
   "cell_type": "code",
   "execution_count": 23,
   "metadata": {
    "vscode": {
     "languageId": "python"
    }
   },
   "outputs": [
    {
     "name": "stdout",
     "output_type": "stream",
     "text": [
      "Found serial ports: /dev/cu.usbserial-0001, /dev/cu.AVSamsungSoundbarT4-Ser, /dev/cu.Bluetooth-Incoming-Port, /dev/cu.Jakobthesuperbrain, /dev/cu.OnkyoCR-265, /dev/cu.wlan-debug \n",
      "\u001b[34mConnecting to --port=/dev/cu.usbserial-0001 --baud=115200 \u001b[0m\n",
      "\u001b[34mReady.\n",
      "\u001b[0m['__init__.py', 'central.py', 'client.py', 'core.py', 'device.py', 'l2cap.py', 'peripheral.py', 'security.py', 'server.py']\n"
     ]
    }
   ],
   "source": [
    "%serialconnect\n",
    "import os\n",
    "print(os.listdir(\"/aioble\"))\n",
    "# os.rmdir(\"aioble\")\n",
    "# os.mkdir(\"/aioble\")"
   ]
  }
 ],
 "metadata": {
  "kernelspec": {
   "display_name": "MicroPython - USB",
   "language": "micropython",
   "name": "micropython"
  },
  "language_info": {
   "codemirror_mode": "python",
   "file_extension": ".py",
   "mimetype": "text/python",
   "name": "micropython"
  },
  "orig_nbformat": 4
 },
 "nbformat": 4,
 "nbformat_minor": 2
}
