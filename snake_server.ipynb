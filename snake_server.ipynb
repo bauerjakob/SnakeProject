{
 "cells": [
  {
   "attachments": {},
   "cell_type": "markdown",
   "metadata": {},
   "source": [
    "# Snake Multiplayer"
   ]
  },
  {
   "cell_type": "code",
   "execution_count": 25,
   "metadata": {
    "vscode": {
     "languageId": "python"
    }
   },
   "outputs": [
    {
     "name": "stdout",
     "output_type": "stream",
     "text": [
      "serial exception on close write failed: [Errno 6] Device not configured\n",
      "\u001b[34mConnecting to --port=/dev/cu.usbserial-0001 --baud=115200 \u001b[0m\n",
      "\u001b[34mReady.\n",
      "\u001b[0m"
     ]
    }
   ],
   "source": [
    "%serialconnect %serialconnect --port=/dev/cu.usbserial-0001 --baud=115200 "
   ]
  },
  {
   "cell_type": "code",
   "execution_count": 26,
   "metadata": {
    "vscode": {
     "languageId": "python"
    }
   },
   "outputs": [],
   "source": [
    "import machine\n",
    "import display\n",
    "import random\n",
    "\n",
    "from time import sleep\n",
    "\n",
    "display = display.Display()"
   ]
  },
  {
   "cell_type": "code",
   "execution_count": 27,
   "metadata": {
    "vscode": {
     "languageId": "python"
    }
   },
   "outputs": [],
   "source": [
    "class Coordinate:\n",
    "    def __init__(self, x, y):\n",
    "        self.x = x\n",
    "        self.y = y\n",
    "\n",
    "    def __str__(self):\n",
    "        return f\"({self.x}/{self.y})\"\n"
   ]
  },
  {
   "cell_type": "code",
   "execution_count": 28,
   "metadata": {
    "vscode": {
     "languageId": "python"
    }
   },
   "outputs": [],
   "source": [
    "class Playground:\n",
    "    DISPLAY_WIDTH = 128\n",
    "    DISPLAY_HEIGHT = 64\n",
    "\n",
    "    BLOCK_SIZE = 4\n",
    "\n",
    "    GAME_WIDTH = int(DISPLAY_WIDTH / BLOCK_SIZE)\n",
    "    GAME_HEIGHT = int(DISPLAY_HEIGHT / BLOCK_SIZE)\n",
    "\n",
    "    def __init__(self):\n",
    "        pass\n",
    "\n",
    "    def draw_coordinate(self, coordintate: Coordinate):\n",
    "        display.fill_rect(coordintate.x * self.BLOCK_SIZE, coordintate.y * self.BLOCK_SIZE, self.BLOCK_SIZE , self.BLOCK_SIZE)"
   ]
  },
  {
   "cell_type": "code",
   "execution_count": 29,
   "metadata": {
    "vscode": {
     "languageId": "python"
    }
   },
   "outputs": [],
   "source": [
    "class Apple:    \n",
    "    def __init__(self, playground):\n",
    "        self.playground = playground\n",
    "        x = random.randint(0, self.playground.GAME_WIDTH - 1)\n",
    "        y = random.randint(0, self.playground.GAME_HEIGHT - 1)\n",
    "        self.coordinate = Coordinate(x, y)\n",
    "    \n",
    "    def draw_apple(self):\n",
    "        self.playground.draw_coordinate(self.coordinate)"
   ]
  },
  {
   "cell_type": "code",
   "execution_count": 30,
   "metadata": {
    "vscode": {
     "languageId": "python"
    }
   },
   "outputs": [],
   "source": [
    "class Snake:\n",
    "    START_SNAKE_LENGTH = 2\n",
    "\n",
    "    def __init__(self, playground: Playground, startPos: Coordinate):\n",
    "        self.tails = []\n",
    "        self.length = self.START_SNAKE_LENGTH\n",
    "        self.direction = 2 # 0 = up, 1 down, 2 left, 3 right\n",
    "        self.score = 0\n",
    "        self.tails.append(startPos)\n",
    "        self.playground = playground\n",
    "\n",
    "\n",
    "    def get_score(self) -> int:\n",
    "        return self.score\n",
    "\n",
    "\n",
    "    def change_direction(self, newDirection):\n",
    "        if (self.direction == 0 and newDirection == 1):\n",
    "            return\n",
    "        elif (self.direction == 1 and newDirection == 0):\n",
    "            return\n",
    "        elif (self.direction == 2 and newDirection == 3):\n",
    "            return\n",
    "        elif (self.direction == 3 and newDirection == 2):\n",
    "            return\n",
    "\n",
    "        self.direction = newDirection\n",
    "\n",
    "    def moove_snake(self):\n",
    "        head = self.tails[-1]\n",
    "        newPos = Coordinate(head.x, head.y)\n",
    "\n",
    "        if (self.direction == 0):\n",
    "            newPos.y = head.y - 1\n",
    "            if newPos.y < 0:\n",
    "                newPos.y = self.playground.GAME_HEIGHT - 1\n",
    "        elif (self.direction == 1):\n",
    "            newPos.y = head.y + 1\n",
    "            if newPos.y >= self.playground.GAME_HEIGHT:\n",
    "                newPos.y = 0\n",
    "        elif (self.direction == 2):\n",
    "            newPos.x = head.x - 1\n",
    "            if newPos.x < 0:\n",
    "                newPos.x = self.playground.GAME_WIDTH - 1\n",
    "        elif (self.direction == 3):\n",
    "            newPos.x = head.x + 1\n",
    "            if newPos.x >= self.playground.GAME_WIDTH:\n",
    "                newPos.x = 0\n",
    "\n",
    "        if (len(self.tails) >= self.length):\n",
    "            self.tails.pop(0)\n",
    "\n",
    "        self.tails.append(newPos)\n",
    "\n",
    "    def detect_apple_colision(self, apple: Apple) -> bool:\n",
    "        collisionDetected = self.detect_colision(apple.coordinate)\n",
    "        if collisionDetected:\n",
    "            self.length += 2\n",
    "            self.score += 1\n",
    "    \n",
    "        return collisionDetected\n",
    "    \n",
    "    def detect_game_over(self):\n",
    "        head = self.tails[-1]\n",
    "        \n",
    "        for pos in self.tails[0:-1]:\n",
    "            if pos.x == head.x and pos.y == head.y:\n",
    "                for i in range(0, max(self.START_SNAKE_LENGTH, len(self.tails) - self.START_SNAKE_LENGTH)):\n",
    "                    self.tails.pop()\n",
    "                self.length = self.START_SNAKE_LENGTH\n",
    "                self.score = 0\n",
    "\n",
    "\n",
    "    def detect_colision(self, coordinate) -> bool:\n",
    "        head = self.tails[-1]\n",
    "        return head.x == coordinate.x and head.y == coordinate.y\n",
    "\n",
    "    def draw_snake(self):\n",
    "        for tail in self.tails:\n",
    "            self.playground.draw_coordinate(tail)"
   ]
  },
  {
   "cell_type": "code",
   "execution_count": 31,
   "metadata": {
    "vscode": {
     "languageId": "python"
    }
   },
   "outputs": [],
   "source": [
    "import uasyncio as asyncio\n",
    "import aioble\n",
    "from bluetooth import UUID\n",
    "import time\n",
    "\n",
    "import random\n",
    "import struct\n",
    "import display\n",
    "from time import sleep\n",
    "import json\n",
    "\n",
    "display = display.Display()\n",
    "\n",
    "\n",
    "\n",
    "class BleService:\n",
    "\n",
    "    ADVERTISING_INTERVAL_MILLISECONDS = 250_000\n",
    "    GATT_APPEARANCE = 768\n",
    "\n",
    "    NAME = \"SnakeMultiplayer\"\n",
    "\n",
    "    SNAKE_SERVICE_UUID = UUID(\"ca07faee-7e95-4856-b44b-bbaef52ec7b4\")\n",
    "    APPLE_POSITION_CHARACTERISTIC_UUID = UUID(\"cec23f9f-cdc0-4577-8798-8dd4b01724d8\")\n",
    "    SNAKE1_POSITIONS_CHARACTERISTIC_UUID = UUID(\"e72c988f-7279-4b82-b808-42884a4ba48f\")\n",
    "    SNAKE2_POSITIONS_CHARACTERISTIC_UUID = UUID(\"1673be03-ef60-4fb9-869c-4513a8e212f1\")\n",
    "    SNAKE2_DIRECTIONS_CHARACTERISTIC_UUID = UUID(\"1533130f-7251-4a87-a976-1b5bc0fae798\")\n",
    "\n",
    "    snake1_transmitted_length = 0\n",
    "    snake2_transmitted_length = 0\n",
    "\n",
    "    def __init__(self):\n",
    "        self.connection = None\n",
    "        self.device_connected = False\n",
    "\n",
    "        self.gatt_snake_service = aioble.Service(self.SNAKE_SERVICE_UUID)\n",
    "        self.snake1_positions_characteristic = aioble.Characteristic(\n",
    "            self.gatt_snake_service,\n",
    "            self.SNAKE1_POSITIONS_CHARACTERISTIC_UUID,\n",
    "            read=True,\n",
    "            notify=True)\n",
    "        \n",
    "        self.snake2_positions_characteristic = aioble.Characteristic(\n",
    "            self.gatt_snake_service,\n",
    "            self.SNAKE2_POSITIONS_CHARACTERISTIC_UUID,\n",
    "            read=True,\n",
    "            notify=True)\n",
    "        \n",
    "        self.snake2_directions_characteristic = aioble.Characteristic(\n",
    "            self.gatt_snake_service,\n",
    "            self.SNAKE2_DIRECTIONS_CHARACTERISTIC_UUID,\n",
    "            read=True,\n",
    "            notify=True)\n",
    "        \n",
    "        self.apple_position_characteristic = aioble.Characteristic(\n",
    "            self.gatt_snake_service,\n",
    "            self.APPLE_POSITION_CHARACTERISTIC_UUID,\n",
    "            read=True,\n",
    "            notify=True)\n",
    "        \n",
    "        aioble.register_services(self.gatt_snake_service)\n",
    "\n",
    "    def update_snake1_tails(self, length: int, tails: list):\n",
    "        self._udpate_snake_tails(length, self.snake1_transmitted_length, tails, self.snake1_positions_characteristic)\n",
    "        self.snake1_transmitted_length = len(tails)\n",
    "    \n",
    "    def update_snake2_tails(self, length: int, tails: list):\n",
    "        self._udpate_snake_tails(length, self.snake2_transmitted_length, tails, self.snake2_positions_characteristic)\n",
    "        self.snake2_transmitted_length = len(tails)\n",
    "    \n",
    "    def update_apple_position(self, coordinate: Coordinate):\n",
    "        self.apple_position_characteristic.write(f\"[{coordinate.x}, {coordinate.y}]\")\n",
    "\n",
    "    def _udpate_snake_tails(self, length: int, transmitted_length: int, tails: list, characteristic):\n",
    "        tailsToTransmitt = tails[max(0, transmitted_length - 1):]\n",
    "        parsedTails = list(map(lambda d: (d.x, d.y), tailsToTransmitt))\n",
    "        sendData = [length, parsedTails]\n",
    "        sendData = str(json.dumps([length, parsedTails])).replace(\" \", \"\")\n",
    "        characteristic.write(sendData)\n",
    "\n",
    "\n",
    "    async def advertise(self):\n",
    "        if self.connection is not None:\n",
    "            self.device_connected = self.connection.is_connected()\n",
    "\n",
    "        if self.device_connected is False:\n",
    "            self.connection = await aioble.advertise(\n",
    "                self.ADVERTISING_INTERVAL_MILLISECONDS,\n",
    "                name=self.NAME,\n",
    "                services=[self.SNAKE_SERVICE_UUID],\n",
    "                appearance=self.GATT_APPEARANCE,\n",
    "            )\n",
    "            self.device_connected = True"
   ]
  },
  {
   "cell_type": "code",
   "execution_count": 32,
   "metadata": {
    "vscode": {
     "languageId": "python"
    }
   },
   "outputs": [
    {
     "name": "stdout",
     "output_type": "stream",
     "text": [
      "............................."
     ]
    }
   ],
   "source": [
    "playground = Playground()\n",
    "\n",
    "snakes = [\n",
    "    Snake(playground, Coordinate(10, 10)),\n",
    "    Snake(playground, Coordinate(20, 10))\n",
    "]\n",
    "\n",
    "apple = Apple(playground)\n",
    "\n",
    "downBtn = Pin(14, Pin.IN, Pin.PULL_UP)\n",
    "rightBtn = Pin(21, Pin.IN, Pin.PULL_UP)\n",
    "leftBtn = Pin(18, Pin.IN, Pin.PULL_UP)\n",
    "upBtn = Pin(25, Pin.IN, Pin.PULL_UP)\n",
    "\n",
    "bleService = BleService()\n",
    "\n",
    "def draw_score(score):\n",
    "    display.text(\"Score \" + str(score), 0, 0)\n",
    "\n",
    "async def main():\n",
    "    global bleService, display, downBtn, rightBtn, leftBtn, upBtn, apple, snakes, playground, draw_score\n",
    "\n",
    "    mySnake = snakes[0]\n",
    "\n",
    "    while True:\n",
    "        display.clear()\n",
    "        if bleService.device_connected is False:\n",
    "            display.text(\"Waiting for\", 0, 0)\n",
    "            display.text(\"connection\", 0, 20)\n",
    "            display.show()\n",
    "\n",
    "        await bleService.advertise()\n",
    "\n",
    "        if downBtn.value() == 0:\n",
    "            mySnake.change_direction(1)\n",
    "        if rightBtn.value() == 0:\n",
    "            mySnake.change_direction(3)\n",
    "        if leftBtn.value() == 0:\n",
    "            mySnake.change_direction(2)\n",
    "        if upBtn.value() == 0:\n",
    "            mySnake.change_direction(0)\n",
    "\n",
    "        apple.draw_apple()\n",
    "\n",
    "        for snake in snakes:\n",
    "            snake.moove_snake()\n",
    "            snake.draw_snake()\n",
    "            if snake.detect_apple_colision(apple):\n",
    "                apple = Apple(playground)\n",
    "                bleService.update_apple_position(apple.coordinate)\n",
    "\n",
    "            snake.detect_game_over()\n",
    "\n",
    "            if (snake == mySnake):\n",
    "                draw_score(snake.get_score())\n",
    "        \n",
    "\n",
    "\n",
    "        bleService.update_snake1_tails(snake.length, mySnake.tails)\n",
    "        bleService.update_snake2_tails(snake.length, snakes[1].tails)\n",
    "\n",
    "        display.show()\n",
    "        time.sleep(0.1)\n",
    "        # print(snake2.playground)\n",
    "        # print(snake.playground)\n",
    "\n",
    "loop = asyncio.get_event_loop()\n",
    "loop.run_until_complete(main())"
   ]
  },
  {
   "cell_type": "code",
   "execution_count": null,
   "metadata": {
    "vscode": {
     "languageId": "python"
    }
   },
   "outputs": [],
   "source": []
  }
 ],
 "metadata": {
  "kernelspec": {
   "display_name": "MicroPython - USB",
   "language": "micropython",
   "name": "micropython"
  },
  "language_info": {
   "codemirror_mode": "python",
   "file_extension": ".py",
   "mimetype": "text/python",
   "name": "micropython"
  },
  "orig_nbformat": 4
 },
 "nbformat": 4,
 "nbformat_minor": 2
}
