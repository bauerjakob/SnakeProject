{
 "cells": [
  {
   "attachments": {},
   "cell_type": "markdown",
   "metadata": {},
   "source": [
    "# Snake Multiplayer\n",
    "\n",
    "Snake Multipayer zwsichen zwei ESP-32-Geräten via Bluetooth Komunikation.\n",
    "\n",
    "## Anforderungen\n",
    "* Snake Game\n",
    "* Stabile Kommunikation via Bluetooth\n",
    "* Score Anzeige"
   ]
  },
  {
   "attachments": {},
   "cell_type": "markdown",
   "metadata": {},
   "source": [
    "## Pin-Layout\n",
    "\n",
    "<img src=\"./assets/esp.png\" width=\"500\">\n",
    "\n",
    "* Pull-Up-Schaltung"
   ]
  },
  {
   "cell_type": "code",
   "execution_count": 32,
   "metadata": {
    "vscode": {
     "languageId": "python"
    }
   },
   "outputs": [
    {
     "name": "stdout",
     "output_type": "stream",
     "text": [
      "\u001b[34mConnecting to --port=/dev/cu.usbserial-0001 --baud=115200 \u001b[0m\n",
      "\u001b[34mReady.\n",
      "\u001b[0m"
     ]
    }
   ],
   "source": [
    "%serialconnect %serialconnect --port=/dev/cu.usbserial-0001 --baud=115200 "
   ]
  },
  {
   "attachments": {},
   "cell_type": "markdown",
   "metadata": {},
   "source": [
    "## Einbinden der benötigten Bibliotheken"
   ]
  },
  {
   "cell_type": "code",
   "execution_count": 33,
   "metadata": {
    "vscode": {
     "languageId": "python"
    }
   },
   "outputs": [],
   "source": [
    "import machine\n",
    "import random\n",
    "import uasyncio as asyncio\n",
    "import struct\n",
    "from time import sleep\n",
    "import json"
   ]
  },
  {
   "attachments": {},
   "cell_type": "markdown",
   "metadata": {},
   "source": [
    "## Playground\n",
    "\n",
    "Zeichne Punkt und Score auf Display"
   ]
  },
  {
   "cell_type": "code",
   "execution_count": 34,
   "metadata": {
    "vscode": {
     "languageId": "python"
    }
   },
   "outputs": [],
   "source": [
    "class Coordinate:\n",
    "    def __init__(self, x, y):\n",
    "        self.x = x\n",
    "        self.y = y"
   ]
  },
  {
   "cell_type": "code",
   "execution_count": 35,
   "metadata": {
    "vscode": {
     "languageId": "python"
    }
   },
   "outputs": [],
   "source": [
    "class Playground:\n",
    "    DISPLAY_WIDTH = 128\n",
    "    DISPLAY_HEIGHT = 64\n",
    "\n",
    "    BLOCK_SIZE = 4\n",
    "\n",
    "    GAME_WIDTH = int(DISPLAY_WIDTH / BLOCK_SIZE)\n",
    "    GAME_HEIGHT = int(DISPLAY_HEIGHT / BLOCK_SIZE)\n",
    "\n",
    "    def __init__(self, display):\n",
    "        self.display = display\n",
    "        pass\n",
    "\n",
    "    def drawScore(self, score):\n",
    "        self.display.text(f\"Score {str(score)}\", 0, 0)\n",
    "\n",
    "    def drawCoordinate(self, coordintate: Coordinate):\n",
    "        self.display.fill_rect(coordintate.x * self.BLOCK_SIZE, coordintate.y * self.BLOCK_SIZE, self.BLOCK_SIZE , self.BLOCK_SIZE)"
   ]
  },
  {
   "cell_type": "code",
   "execution_count": 36,
   "metadata": {
    "vscode": {
     "languageId": "python"
    }
   },
   "outputs": [],
   "source": [
    "import display\n",
    "\n",
    "# Erstellen eines Display Objekts\n",
    "display = display.Display()\n",
    "\n",
    "# Erstellen eines Playground Objekts mit übergabe des erstellten Displays\n",
    "playground = Playground(display)\n",
    "\n",
    "display.clear()\n",
    "\n",
    "# Neue Koordinate anlegen - übergabe von x und y Koordinaten\n",
    "coordinate = Coordinate(20, 10)\n",
    "\n",
    "# Koordinate und Test-Score auf Display zeichnen\n",
    "playground.drawCoordinate(coordinate)\n",
    "playground.drawScore(5)\n",
    "\n",
    "display.show()"
   ]
  },
  {
   "attachments": {},
   "cell_type": "markdown",
   "metadata": {},
   "source": [
    "<img src=\"./assets/dot.png\" width=\"500\">"
   ]
  },
  {
   "attachments": {},
   "cell_type": "markdown",
   "metadata": {},
   "source": [
    "## Zeichne einen Apfel\n",
    "\n",
    "\n",
    "### Was ist eine Klasse\n",
    "Eine Klasse definiert Eigenschaften und Methoden. Mit einer Klasse können Objekte mit den gegebenen Eigenschaften angelegt werden.  \n",
    "Eine Klasse kann als Schablone oder Bauplan für eine Gruppe von Objekten dienen."
   ]
  },
  {
   "cell_type": "code",
   "execution_count": 43,
   "metadata": {
    "vscode": {
     "languageId": "python"
    }
   },
   "outputs": [],
   "source": [
    "class Apple:    \n",
    "    def __init__(self, playground):\n",
    "        self.playground = playground\n",
    "        x = random.randint(0, self.playground.GAME_WIDTH - 1)\n",
    "        y = random.randint(0, self.playground.GAME_HEIGHT - 1)\n",
    "        self.coordinate = Coordinate(x, y)\n",
    "    \n",
    "    def drawApple(self):\n",
    "        self.playground.drawCoordinate(self.coordinate)"
   ]
  },
  {
   "cell_type": "code",
   "execution_count": 66,
   "metadata": {
    "vscode": {
     "languageId": "python"
    }
   },
   "outputs": [],
   "source": [
    "import display\n",
    "display = display.Display()\n",
    "playground = Playground(display)\n",
    "\n",
    "apple = Apple(playground)\n",
    "apple.drawApple()\n",
    "\n",
    "display.show()"
   ]
  },
  {
   "attachments": {},
   "cell_type": "markdown",
   "metadata": {},
   "source": [
    "## Snake"
   ]
  },
  {
   "cell_type": "code",
   "execution_count": 38,
   "metadata": {
    "vscode": {
     "languageId": "python"
    }
   },
   "outputs": [],
   "source": [
    "class Snake:\n",
    "    START_SNAKE_LENGTH = 2\n",
    "\n",
    "    def __init__(self, playground: Playground, startPos: Coordinate):\n",
    "        self.tails = []\n",
    "        self.length = self.START_SNAKE_LENGTH\n",
    "        self.direction = 2 # 0 = up, 1 down, 2 left, 3 right\n",
    "        self.score = 0\n",
    "        self.tails.append(startPos)\n",
    "        self.playground = playground\n",
    "\n",
    "\n",
    "    def getScore(self) -> int:\n",
    "        return self.score\n",
    "\n",
    "    def changeDirection(self, newDirection):\n",
    "        if (self.direction == 0 and newDirection == 1):\n",
    "            return\n",
    "        elif (self.direction == 1 and newDirection == 0):\n",
    "            return\n",
    "        elif (self.direction == 2 and newDirection == 3):\n",
    "            return\n",
    "        elif (self.direction == 3 and newDirection == 2):\n",
    "            return\n",
    "\n",
    "        self.direction = newDirection\n",
    "\n",
    "    def mooveSnake(self):\n",
    "        head = self.tails[-1]\n",
    "        newPos = Coordinate(head.x, head.y)\n",
    "\n",
    "        if (self.direction == 0):\n",
    "            newPos.y = head.y - 1\n",
    "            if newPos.y < 0:\n",
    "                newPos.y = self.playground.GAME_HEIGHT - 1\n",
    "        elif (self.direction == 1):\n",
    "            newPos.y = head.y + 1\n",
    "            if newPos.y >= self.playground.GAME_HEIGHT:\n",
    "                newPos.y = 0\n",
    "        elif (self.direction == 2):\n",
    "            newPos.x = head.x - 1\n",
    "            if newPos.x < 0:\n",
    "                newPos.x = self.playground.GAME_WIDTH - 1\n",
    "        elif (self.direction == 3):\n",
    "            newPos.x = head.x + 1\n",
    "            if newPos.x >= self.playground.GAME_WIDTH:\n",
    "                newPos.x = 0\n",
    "\n",
    "        if (len(self.tails) >= self.length):\n",
    "            self.tails.pop(0)\n",
    "\n",
    "        self.tails.append(newPos)\n",
    "\n",
    "    def detectAppleCollision(self, apple: Apple) -> bool:\n",
    "        collisionDetected = self.detectCollission(apple.coordinate)\n",
    "        if collisionDetected:\n",
    "            self.length += 2\n",
    "            self.score += 1\n",
    "    \n",
    "        return collisionDetected\n",
    "    \n",
    "    def detectGameOver(self, otherSnakeTails):\n",
    "        head = self.tails[-1]\n",
    "        \n",
    "        gameOver = False\n",
    "        if len(self.tails) > self.START_SNAKE_LENGTH:\n",
    "            for pos in self.tails[:-2]:\n",
    "                if pos.x == head.x and pos.y == head.y:\n",
    "                    gameOver = True\n",
    "\n",
    "            for pos in otherSnakeTails:\n",
    "                if pos.x == head.x and pos.y == head.y:\n",
    "                    gameOver = True\n",
    "                    \n",
    "\n",
    "        if gameOver == True:\n",
    "            for i in range(0, max(self.START_SNAKE_LENGTH, len(self.tails) - self.START_SNAKE_LENGTH)):\n",
    "                self.tails.pop(0)\n",
    "            self.length = self.START_SNAKE_LENGTH\n",
    "            self.score = 0\n",
    "\n",
    "\n",
    "    def detectCollission(self, coordinate) -> bool:\n",
    "        head = self.tails[-1]\n",
    "        return head.x == coordinate.x and head.y == coordinate.y\n",
    "\n",
    "    def drawSnake(self):\n",
    "        for tail in self.tails:\n",
    "            self.playground.drawCoordinate(tail)"
   ]
  },
  {
   "attachments": {},
   "cell_type": "markdown",
   "metadata": {},
   "source": [
    "## Fertiges Snake Game (Single Player)"
   ]
  },
  {
   "cell_type": "code",
   "execution_count": 70,
   "metadata": {
    "vscode": {
     "languageId": "python"
    }
   },
   "outputs": [
    {
     "name": "stdout",
     "output_type": "stream",
     "text": [
      ".....................\n",
      "**[ys] <class 'serial.serialutil.SerialException'>\n",
      "**[ys] read failed: [Errno 6] Device not configured\n",
      "\n",
      "\n",
      "**[ys] <class 'serial.serialutil.SerialException'>\n",
      "**[ys] read failed: [Errno 6] Device not configured\n",
      "\n"
     ]
    }
   ],
   "source": [
    "import display\n",
    "display = display.Display()\n",
    "playground = Playground(display)\n",
    "\n",
    "snake = Snake(playground, Coordinate(10, 10))\n",
    "apple = Apple(playground)\n",
    "\n",
    "downBtn = Pin(14, Pin.IN, Pin.PULL_UP)\n",
    "rightBtn = Pin(21, Pin.IN, Pin.PULL_UP)\n",
    "leftBtn = Pin(18, Pin.IN, Pin.PULL_UP)\n",
    "upBtn = Pin(25, Pin.IN, Pin.PULL_UP)\n",
    "\n",
    "while True:\n",
    "    display.clear()\n",
    "\n",
    "    if downBtn.value() == 0:\n",
    "        snake.changeDirection(1)\n",
    "    if rightBtn.value() == 0:\n",
    "        snake.changeDirection(3)\n",
    "    if leftBtn.value() == 0:\n",
    "        snake.changeDirection(2)\n",
    "    if upBtn.value() == 0:\n",
    "        snake.changeDirection(0)\n",
    "\n",
    "    apple.drawApple()\n",
    "\n",
    "    snake.mooveSnake()\n",
    "    snake.drawSnake()\n",
    "\n",
    "    if snake.detectAppleCollision(apple):\n",
    "        apple = Apple(playground)\n",
    "\n",
    "    snake.detectGameOver([])\n",
    "\n",
    "    playground.drawScore(snake.getScore())    \n",
    "\n",
    "    display.show()\n",
    "\n",
    "    sleep(0.1)\n"
   ]
  },
  {
   "attachments": {},
   "cell_type": "markdown",
   "metadata": {},
   "source": [
    "# Multiplayer mit Bluetooth-Verbindung"
   ]
  },
  {
   "attachments": {},
   "cell_type": "markdown",
   "metadata": {},
   "source": [
    "## GATT-Server (Generic Attribute Profile)\n",
    "\n",
    "<img src=\"./assets/bluetooth.png\" width=\"50\">"
   ]
  },
  {
   "attachments": {},
   "cell_type": "markdown",
   "metadata": {},
   "source": [
    "<img src=\"./assets/bleservice.png\" width=\"300\">"
   ]
  },
  {
   "cell_type": "code",
   "execution_count": 39,
   "metadata": {
    "vscode": {
     "languageId": "python"
    }
   },
   "outputs": [
    {
     "name": "stdout",
     "output_type": "stream",
     "text": [
      "\u001b[34m\n",
      "\n",
      "*** Sending Ctrl-C\n",
      "\n",
      "\u001b[0m"
     ]
    }
   ],
   "source": [
    "import aioble\n",
    "from bluetooth import UUID\n",
    "\n",
    "class BleService:\n",
    "\n",
    "    ADVERTISING_INTERVAL_MILLISECONDS = 250_000\n",
    "    GATT_APPEARANCE = 768\n",
    "\n",
    "    NAME = \"SnakeMultiplayer\"\n",
    "\n",
    "    SNAKE_SERVICE_UUID = UUID(\"ca07faee-7e95-4856-b44b-bbaef52ec7b4\")\n",
    "\n",
    "    APPLE_POSITION_CHARACTERISTIC_UUID = UUID(\"cec23f9f-cdc0-4577-8798-8dd4b01724d8\")\n",
    "    SNAKE1_POSITIONS_CHARACTERISTIC_UUID = UUID(\"e72c988f-7279-4b82-b808-42884a4ba48f\")\n",
    "    SNAKE2_POSITIONS_CHARACTERISTIC_UUID = UUID(\"1673be03-ef60-4fb9-869c-4513a8e212f1\")\n",
    "    SNAKE2_DIRECTIONS_CHARACTERISTIC_UUID = UUID(\"1533130f-7251-4a87-a976-1b5bc0fae798\")\n",
    "\n",
    "    snake1TransmittedLength = 0\n",
    "    snake2TransmittedLength = 0\n",
    "\n",
    "    def __init__(self):\n",
    "        self.connection = None\n",
    "        self.device_connected = False\n",
    "\n",
    "        self.gattSnakeService = aioble.Service(self.SNAKE_SERVICE_UUID)\n",
    "\n",
    "        self.snake1PositionsCharacteristic = aioble.Characteristic(\n",
    "            self.gattSnakeService,\n",
    "            self.SNAKE1_POSITIONS_CHARACTERISTIC_UUID,\n",
    "            read=True,\n",
    "            notify=True)\n",
    "        \n",
    "        self.snake2PositionsCharacteristic = aioble.Characteristic(\n",
    "            self.gattSnakeService,\n",
    "            self.SNAKE2_POSITIONS_CHARACTERISTIC_UUID,\n",
    "            read=True,\n",
    "            notify=True)\n",
    "        \n",
    "        self.snake2DirectionsCharacteristic = aioble.Characteristic(\n",
    "            self.gattSnakeService,\n",
    "            self.SNAKE2_DIRECTIONS_CHARACTERISTIC_UUID,\n",
    "            read=False,\n",
    "            write=True, \n",
    "            notify=True, capture=True)\n",
    "        \n",
    "        self.applePositionCharacteristic = aioble.Characteristic(\n",
    "            self.gattSnakeService,\n",
    "            self.APPLE_POSITION_CHARACTERISTIC_UUID,\n",
    "            read=True,\n",
    "            notify=True)\n",
    "        \n",
    "        aioble.register_services(self.gattSnakeService)\n",
    "\n",
    "    async def getSnake2Direction(self):\n",
    "        value =  self.snake2DirectionsCharacteristic.read()\n",
    "\n",
    "        if (value):\n",
    "            val = int.from_bytes(value, \"little\")\n",
    "            return int(val)\n",
    "        else:\n",
    "            return 1 # default value\n",
    "\n",
    "    def updateSnake1Tails(self, length: int, tails: list):\n",
    "        self._udpateSnakeTails(length, self.snake1TransmittedLength, tails, self.snake1PositionsCharacteristic)\n",
    "        self.snake1TransmittedLength = len(tails)\n",
    "    \n",
    "    def updateSnake2Tails(self, length: int, tails: list):\n",
    "        self._udpateSnakeTails(length, self.snake2TransmittedLength, tails, self.snake2PositionsCharacteristic)\n",
    "        self.snake2TransmittedLength = len(tails)\n",
    "    \n",
    "    def updateApplePosition(self, coordinate: Coordinate):\n",
    "        self.applePositionCharacteristic.write(f\"[{coordinate.x}, {coordinate.y}]\")\n",
    "        self.applePositionCharacteristic.notify(self.connection)\n",
    "\n",
    "    def _udpateSnakeTails(self, length: int, transmitted_length: int, tails: list, characteristic):\n",
    "        tailsToTransmitt = tails\n",
    "\n",
    "        if (transmitted_length > 0):\n",
    "            tailsToTransmitt = [tails[-1]]\n",
    "\n",
    "        parsedTails = list(map(lambda d: (d.x, d.y), tailsToTransmitt))\n",
    "        sendData = [length, parsedTails]\n",
    "        sendData = str(json.dumps([length, parsedTails])).replace(\" \", \"\")\n",
    "        characteristic.write(sendData)\n",
    "        characteristic.notify(self.connection)\n",
    "\n",
    "    async def advertise(self):\n",
    "        if self.connection is not None:\n",
    "            self.device_connected = self.connection.is_connected()\n",
    "\n",
    "        if self.device_connected is False:\n",
    "            self.connection = await aioble.advertise(\n",
    "                self.ADVERTISING_INTERVAL_MILLISECONDS,\n",
    "                name=self.NAME,\n",
    "                services=[self.SNAKE_SERVICE_UUID],\n",
    "                appearance=self.GATT_APPEARANCE,\n",
    "            )\n",
    "            self.device_connected = True"
   ]
  },
  {
   "attachments": {},
   "cell_type": "markdown",
   "metadata": {},
   "source": [
    "# Fertiger Snake Multiplayer (Server)"
   ]
  },
  {
   "cell_type": "code",
   "execution_count": null,
   "metadata": {
    "vscode": {
     "languageId": "python"
    }
   },
   "outputs": [
    {
     "name": "stdout",
     "output_type": "stream",
     "text": [
      "..................................................................................."
     ]
    }
   ],
   "source": [
    "playground = Playground(display)\n",
    "\n",
    "snakes = [\n",
    "    Snake(playground, Coordinate(10, 10)),\n",
    "    Snake(playground, Coordinate(20, 10))\n",
    "]\n",
    "\n",
    "apple = Apple(playground)\n",
    "\n",
    "downBtn = Pin(14, Pin.IN, Pin.PULL_UP)\n",
    "rightBtn = Pin(21, Pin.IN, Pin.PULL_UP)\n",
    "leftBtn = Pin(18, Pin.IN, Pin.PULL_UP)\n",
    "upBtn = Pin(25, Pin.IN, Pin.PULL_UP)\n",
    "\n",
    "bleService = BleService()\n",
    "\n",
    "async def main():\n",
    "    global bleService, display, downBtn, rightBtn, leftBtn, upBtn, apple, snakes, playground, draw_score\n",
    "\n",
    "    mySnake = snakes[0]\n",
    "    otherSnake = snakes[1]\n",
    "\n",
    "    while True:\n",
    "        display.clear()\n",
    "        \n",
    "        if bleService.device_connected is False:\n",
    "            display.text(\"Waiting for\", 0, 0)\n",
    "            display.text(\"connection\", 0, 20)\n",
    "            display.show()\n",
    "\n",
    "        await bleService.advertise()\n",
    "\n",
    "        if downBtn.value() == 0:\n",
    "            mySnake.changeDirection(1)\n",
    "        if rightBtn.value() == 0:\n",
    "            mySnake.changeDirection(3)\n",
    "        if leftBtn.value() == 0:\n",
    "            mySnake.changeDirection(2)\n",
    "        if upBtn.value() == 0:\n",
    "            mySnake.changeDirection(0)\n",
    "\n",
    "        otherSnake.changeDirection(await bleService.getSnake2Direction())\n",
    "\n",
    "        apple.drawApple()\n",
    "\n",
    "        for snake in snakes:\n",
    "            snake.mooveSnake()\n",
    "            snake.drawSnake()\n",
    "            if snake.detectAppleCollision(apple):\n",
    "                apple = Apple(playground)\n",
    "\n",
    "            if snake == mySnake:\n",
    "                snake.detectGameOver(otherSnake.tails)\n",
    "            else:\n",
    "                snake.detectGameOver(mySnake.tails)\n",
    "\n",
    "            if (snake == mySnake):\n",
    "                playground.drawScore(snake.getScore())\n",
    "\n",
    "        bleService.updateSnake1Tails(mySnake.length, mySnake.tails)\n",
    "        bleService.updateSnake2Tails(otherSnake.length, otherSnake.tails)\n",
    "        bleService.updateApplePosition(apple.coordinate)\n",
    "\n",
    "        display.show()\n",
    "        time.sleep(0.1)\n",
    "\n",
    "loop = asyncio.get_event_loop()\n",
    "loop.run_until_complete(main())"
   ]
  }
 ],
 "metadata": {
  "kernelspec": {
   "display_name": "MicroPython - USB",
   "language": "micropython",
   "name": "micropython"
  },
  "language_info": {
   "codemirror_mode": "python",
   "file_extension": ".py",
   "mimetype": "text/python",
   "name": "micropython"
  },
  "orig_nbformat": 4
 },
 "nbformat": 4,
 "nbformat_minor": 2
}
