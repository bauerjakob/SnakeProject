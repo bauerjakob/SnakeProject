{
 "cells": [
  {
   "cell_type": "code",
   "execution_count": 1,
   "metadata": {
    "vscode": {
     "languageId": "plaintext"
    }
   },
   "outputs": [
    {
     "name": "stdout",
     "output_type": "stream",
     "text": [
      "Found serial ports: /dev/cu.usbserial-0001, /dev/cu.AVSamsungSoundbarT4-Ser, /dev/cu.Bluetooth-Incoming-Port, /dev/cu.Jakobthesuperbrain, /dev/cu.OnkyoCR-265, /dev/cu.wlan-debug \n",
      "\u001b[34mConnecting to --port=/dev/cu.usbserial-0001 --baud=115200 \u001b[0m\n",
      "\u001b[34mReady.\n",
      "\u001b[0m"
     ]
    }
   ],
   "source": [
    "%serialconnect"
   ]
  },
  {
   "cell_type": "code",
   "execution_count": 2,
   "metadata": {
    "vscode": {
     "languageId": "python"
    }
   },
   "outputs": [
    {
     "name": "stdout",
     "output_type": "stream",
     "text": [
      ".Temperature sensor not found\n"
     ]
    }
   ],
   "source": [
    "import sys\n",
    "\n",
    "sys.path.append(\"\")\n",
    "\n",
    "from micropython import const\n",
    "\n",
    "import uasyncio as asyncio\n",
    "import aioble\n",
    "import bluetooth\n",
    "\n",
    "import random\n",
    "import struct\n",
    "\n",
    "# org.bluetooth.service.environmental_sensing\n",
    "_ENV_SENSE_UUID = bluetooth.UUID(0x181A)\n",
    "# org.bluetooth.characteristic.temperature\n",
    "_ENV_SENSE_TEMP_UUID = bluetooth.UUID(0x2A6E)\n",
    "\n",
    "\n",
    "# Helper to decode the temperature characteristic encoding (sint16, hundredths of a degree).\n",
    "def _decode_temperature(data):\n",
    "    return struct.unpack(\"<h\", data)[0] / 100\n",
    "\n",
    "\n",
    "async def find_other_device():\n",
    "    # Scan for 5 seconds, in active mode, with very low interval/window (to\n",
    "    # maximise detection rate).\n",
    "    async with aioble.scan(5000, interval_us=30000, window_us=30000, active=True) as scanner:\n",
    "        async for result in scanner:\n",
    "            # See if it matches our name and the environmental sensing service.\n",
    "            if result.name() == \"mpy-temp\" and _ENV_SENSE_UUID in result.services():\n",
    "                return result.device\n",
    "    return None\n",
    "\n",
    "\n",
    "async def main():\n",
    "    device = await find_other_device()\n",
    "    if not device:\n",
    "        print(\"Temperature sensor not found\")\n",
    "        return\n",
    "\n",
    "    try:\n",
    "        print(\"Connecting to\", device)\n",
    "        connection = await device.connect()\n",
    "    except asyncio.TimeoutError:\n",
    "        print(\"Timeout during connection\")\n",
    "        return\n",
    "\n",
    "    async with connection:\n",
    "        try:\n",
    "            temp_service = await connection.service(_ENV_SENSE_UUID)\n",
    "            temp_characteristic = await temp_service.characteristic(_ENV_SENSE_TEMP_UUID)\n",
    "        except asyncio.TimeoutError:\n",
    "            print(\"Timeout discovering services/characteristics\")\n",
    "            return\n",
    "\n",
    "        while True:\n",
    "            temp_deg_c = _decode_temperature(await temp_characteristic.read())\n",
    "            print(\"Temperature: {:.2f}\".format(temp_deg_c))\n",
    "            await asyncio.sleep_ms(1000)\n",
    "\n",
    "\n",
    "asyncio.run(main())"
   ]
  }
 ],
 "metadata": {
  "kernelspec": {
   "display_name": "MicroPython - USB",
   "language": "micropython",
   "name": "micropython"
  },
  "language_info": {
   "codemirror_mode": "python",
   "file_extension": ".py",
   "mimetype": "text/python",
   "name": "micropython"
  },
  "orig_nbformat": 4
 },
 "nbformat": 4,
 "nbformat_minor": 2
}
