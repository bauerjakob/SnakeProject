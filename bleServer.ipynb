{
 "cells": [
  {
   "cell_type": "code",
   "execution_count": 8,
   "metadata": {
    "vscode": {
     "languageId": "python"
    }
   },
   "outputs": [
    {
     "name": "stdout",
     "output_type": "stream",
     "text": [
      "serial exception on close write failed: [Errno 6] Device not configured\n",
      "Found serial ports: /dev/cu.usbserial-0001, /dev/cu.AVSamsungSoundbarT4-Ser, /dev/cu.Bluetooth-Incoming-Port, /dev/cu.Jakobthesuperbrain, /dev/cu.OnkyoCR-265, /dev/cu.wlan-debug \n",
      "\u001b[34mConnecting to --port=/dev/cu.usbserial-0001 --baud=115200 \u001b[0m\n",
      "\u001b[34mReady.\n",
      "\u001b[0m..Connection from Device(ADDR_RANDOM, 71:50:a9:c6:5f:d2, CONNECTED)\n",
      "............"
     ]
    },
    {
     "name": "stderr",
     "output_type": "stream",
     "text": [
      "Traceback (most recent call last):\n",
      "  File \"<stdin>\", line 67, in <module>\n",
      "  File \"uasyncio/core.py\", line 1, in run\n",
      "  File \"uasyncio/core.py\", line 1, in run_until_complete\n",
      "  File \"uasyncio/core.py\", line 1, in run_until_complete\n",
      "  File \"<stdin>\", line 65, in main\n",
      "  File \"uasyncio/funcs.py\", line 1, in gather\n",
      "  File \"uasyncio/core.py\", line 1, in run_until_complete\n",
      "  File \"<stdin>\", line 58, in peripheral_task\n",
      "  File \"aioble/device.py\", line 295, in __aexit__\n",
      "  File \"aioble/device.py\", line 216, in disconnect\n",
      "  File \"aioble/device.py\", line 232, in disconnected\n",
      "  File \"aioble/device.py\", line 232, in disconnected\n",
      "  File \"uasyncio/core.py\", line 1, in run_until_complete\n",
      "  File \"aioble/device.py\", line 198, in device_task\n",
      "  File \"uasyncio/event.py\", line 1, in wait\n",
      "CancelledError: \n"
     ]
    }
   ],
   "source": []
  }
 ],
 "metadata": {
  "kernelspec": {
   "display_name": "MicroPython - USB",
   "language": "micropython",
   "name": "micropython"
  },
  "language_info": {
   "codemirror_mode": "python",
   "file_extension": ".py",
   "mimetype": "text/python",
   "name": "micropython"
  },
  "orig_nbformat": 4
 },
 "nbformat": 4,
 "nbformat_minor": 2
}
