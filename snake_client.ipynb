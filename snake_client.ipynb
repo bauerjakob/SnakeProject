{
 "cells": [
  {
   "cell_type": "code",
   "execution_count": 64,
   "metadata": {
    "vscode": {
     "languageId": "python"
    }
   },
   "outputs": [
    {
     "name": "stdout",
     "output_type": "stream",
     "text": [
      "\u001b[34mConnecting to --port=/dev/cu.usbserial-8 --baud=115200 \u001b[0m\n",
      "\u001b[34mReady.\n",
      "\u001b[0m"
     ]
    }
   ],
   "source": [
    "%serialconnect --port=/dev/cu.usbserial-8 --baud=115200 \n",
    "\n",
    "import machine\n",
    "import display\n",
    "\n",
    "display = display.Display()"
   ]
  },
  {
   "cell_type": "code",
   "execution_count": 65,
   "metadata": {
    "vscode": {
     "languageId": "python"
    }
   },
   "outputs": [],
   "source": [
    "import sys\n",
    "\n",
    "sys.path.append(\"\")\n",
    "\n",
    "from micropython import const\n",
    "\n",
    "import uasyncio as asyncio\n",
    "import aioble\n",
    "from bluetooth import UUID\n",
    "\n",
    "import random\n",
    "import struct\n",
    "import json\n",
    "\n",
    "class BleClient:\n",
    "    SERVER_NAME = \"SnakeMultiplayer\"\n",
    "    SNAKE_SERVICE_UUID = UUID(\"ca07faee-7e95-4856-b44b-bbaef52ec7b4\")\n",
    "    APPLE_POSITION_CHARACTERISTIC_UUID = UUID(\"cec23f9f-cdc0-4577-8798-8dd4b01724d8\")\n",
    "    SNAKE1_POSITIONS_CHARACTERISTIC_UUID = UUID(\"e72c988f-7279-4b82-b808-42884a4ba48f\")\n",
    "    SNAKE2_POSITIONS_CHARACTERISTIC_UUID = UUID(\"1673be03-ef60-4fb9-869c-4513a8e212f1\")\n",
    "    SNAKE2_DIRECTIONS_CHARACTERISTIC_UUID = UUID(\"1533130f-7251-4a87-a976-1b5bc0fae798\")\n",
    "\n",
    "    transmitted_snake1_tails = []\n",
    "    transmitted_snake2_tails = []\n",
    "    apple_position = None\n",
    "\n",
    "    def __init__(self) -> None:\n",
    "        self.snake_service_connection = None\n",
    "        self.snake1_tails_characteristic = None\n",
    "        self.snake2_tails_characteristic = None\n",
    "        self.snake2_direction_characteristic = None\n",
    "        self.apple_position_characteristic = None\n",
    "\n",
    "    async def read_snake1_tails(self):\n",
    "        value = await self.snake1_tails_characteristic.notified()\n",
    "        if (value):\n",
    "            data = list(json.loads(value))\n",
    "            snakeLength = data[0]\n",
    "            newSnakeTails = data[1]\n",
    "\n",
    "            for i in range(0, len(newSnakeTails)):\n",
    "                self.transmitted_snake1_tails.append(newSnakeTails[i])\n",
    "\n",
    "            while len(self.transmitted_snake1_tails) > snakeLength:\n",
    "                self.transmitted_snake1_tails.pop(0)\n",
    "\n",
    "        return self.transmitted_snake1_tails\n",
    "    \n",
    "    async def read_snake2_tails(self):\n",
    "        value = await self.snake2_tails_characteristic.notified()\n",
    "        if (value):\n",
    "            data = list(json.loads(value))\n",
    "            snakeLength = data[0]\n",
    "            newSnakeTails = data[1]\n",
    "\n",
    "            for i in range(0, len(newSnakeTails)):\n",
    "                self.transmitted_snake2_tails.append(newSnakeTails[i])\n",
    "\n",
    "            while len(self.transmitted_snake2_tails) > snakeLength:\n",
    "                self.transmitted_snake2_tails.pop(0)\n",
    "\n",
    "        return self.transmitted_snake2_tails\n",
    "    \n",
    "    async def read_apple_posistion(self):\n",
    "        value = await self.apple_position_characteristic.notified()\n",
    "        if (value):\n",
    "            new_apple_pos = list(json.loads(value))\n",
    "            print(new_apple_pos)\n",
    "            self.apple_position = new_apple_pos\n",
    "\n",
    "        return self.apple_position\n",
    "    \n",
    "    async def write_snake2_direction(self, newDirection: int):\n",
    "        data = struct.pack(\"<h\", newDirection)\n",
    "        await self.snake2_direction_characteristic.write(data)\n",
    "        print(\"wrote new direciton \" + str(newDirection))\n",
    "        \n",
    "    async def find_server(self):\n",
    "        if (self.snake_service_connection is not None):\n",
    "            return True\n",
    "        \n",
    "        async with aioble.scan(5000, interval_us=30000, window_us=30000, active=True) as scanner:\n",
    "            async for result in scanner:\n",
    "                if result.name() == self.SERVER_NAME and self.SNAKE_SERVICE_UUID in result.services():\n",
    "                    print(\"its a match\")\n",
    "                    device = result.device\n",
    "                    connection = await device.connect()\n",
    "                    self.snake_service_connection = await connection.service(self.SNAKE_SERVICE_UUID)\n",
    "                    self.snake1_tails_characteristic = await self.snake_service_connection.characteristic(self.SNAKE1_POSITIONS_CHARACTERISTIC_UUID)\n",
    "                    await self.snake1_tails_characteristic.read()\n",
    "                    await self.snake1_tails_characteristic.subscribe(notify=True, indicate=False)\n",
    "                    self.snake2_tails_characteristic = await self.snake_service_connection.characteristic(self.SNAKE2_POSITIONS_CHARACTERISTIC_UUID)\n",
    "                    await self.snake2_tails_characteristic.subscribe(notify=True, indicate=False)\n",
    "                    self.apple_position_characteristic = await self.snake_service_connection.characteristic(self.APPLE_POSITION_CHARACTERISTIC_UUID)\n",
    "                    await self.apple_position_characteristic.subscribe(notify=True, indicate=False)                    \n",
    "                    self.snake2_direction_characteristic = await self.snake_service_connection.characteristic(self.SNAKE2_DIRECTIONS_CHARACTERISTIC_UUID)\n",
    "                    return True\n",
    "            \n",
    "        return False"
   ]
  },
  {
   "cell_type": "code",
   "execution_count": 66,
   "metadata": {
    "vscode": {
     "languageId": "python"
    }
   },
   "outputs": [],
   "source": [
    "BLOCK_SIZE = 4\n",
    "\n",
    "DISPLAY_WIDTH = 128\n",
    "DISPLAY_HEIGHT = 64\n",
    "\n",
    "GAME_WIDTH = int(DISPLAY_WIDTH / BLOCK_SIZE)\n",
    "GAME_HEIGHT = int(DISPLAY_HEIGHT / BLOCK_SIZE)\n",
    "\n",
    "def draw_game(snake1, snake2, apple):\n",
    "    \n",
    "    display.clear()\n",
    "    \n",
    "    display.text(\"Score\", 0, 0)\n",
    "    for s1 in snake1:\n",
    "        draw_point(s1[0], s1[1])\n",
    "    \n",
    "    for s2 in snake2:\n",
    "        draw_point(s2[0], s2[1])\n",
    "\n",
    "    draw_point(apple[0], apple[1])\n",
    "\n",
    "    display.show()\n",
    "\n",
    "\n",
    "\n",
    "def draw_point(x, y):\n",
    "    display.fill_rect(x * BLOCK_SIZE, y * BLOCK_SIZE, BLOCK_SIZE, BLOCK_SIZE)\n",
    "\n"
   ]
  },
  {
   "cell_type": "code",
   "execution_count": 67,
   "metadata": {
    "vscode": {
     "languageId": "python"
    }
   },
   "outputs": [
    {
     "name": "stdout",
     "output_type": "stream",
     "text": [
      "its a match\n",
      "....\n",
      "**[ys] <class 'serial.serialutil.SerialException'>\n",
      "**[ys] read failed: [Errno 6] Device not configured\n",
      "\n",
      "\n",
      "**[ys] <class 'serial.serialutil.SerialException'>\n",
      "**[ys] read failed: [Errno 6] Device not configured\n",
      "\n"
     ]
    }
   ],
   "source": [
    "from time import sleep\n",
    "bleClient = BleClient()\n",
    "\n",
    "downBtn = Pin(14, Pin.IN, Pin.PULL_UP)\n",
    "rightBtn = Pin(21, Pin.IN, Pin.PULL_UP)\n",
    "leftBtn = Pin(18, Pin.IN, Pin.PULL_UP)\n",
    "upBtn = Pin(25, Pin.IN, Pin.PULL_UP)\n",
    "\n",
    "async def main():\n",
    "    global bleClient, draw_game\n",
    "    oldDirection = 1\n",
    "    direction = 1\n",
    "\n",
    "    while True:\n",
    "        result = await bleClient.find_server()\n",
    "        if result is False:\n",
    "            continue\n",
    "\n",
    "        if downBtn.value() == 0:\n",
    "            direction = 1\n",
    "        if rightBtn.value() == 0:\n",
    "            direction = 3\n",
    "        if leftBtn.value() == 0:\n",
    "            direction = 2\n",
    "        if upBtn.value() == 0:\n",
    "            direction = 0\n",
    "\n",
    "        if direction != oldDirection:\n",
    "            # await bleClient.write_snake2_direction(direction)\n",
    "            oldDirection = direction\n",
    "    \n",
    "\n",
    "        snake1Tails = await bleClient.read_snake1_tails()\n",
    "        snake2Tails = await bleClient.read_snake2_tails()\n",
    "        # applePos = await bleClient.read_apple_posistion()\n",
    "\n",
    "        # print(applePos)\n",
    "    \n",
    "        draw_game(snake1Tails, snake2Tails, [0,0])\n",
    "\n",
    "        sleep(0.02)\n",
    "\n",
    "loop = asyncio.get_event_loop()\n",
    "loop.run_until_complete(main())"
   ]
  }
 ],
 "metadata": {
  "kernelspec": {
   "display_name": "MicroPython - USB",
   "language": "micropython",
   "name": "micropython"
  },
  "language_info": {
   "codemirror_mode": "python",
   "file_extension": ".py",
   "mimetype": "text/python",
   "name": "micropython"
  },
  "orig_nbformat": 4
 },
 "nbformat": 4,
 "nbformat_minor": 2
}
