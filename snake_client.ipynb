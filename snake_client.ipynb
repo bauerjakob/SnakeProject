{
 "cells": [
  {
   "attachments": {},
   "cell_type": "markdown",
   "metadata": {},
   "source": [
    "# Snake Multiplayer (Client)"
   ]
  },
  {
   "cell_type": "code",
   "execution_count": 100,
   "metadata": {
    "vscode": {
     "languageId": "python"
    }
   },
   "outputs": [
    {
     "name": "stdout",
     "output_type": "stream",
     "text": [
      "\u001b[34mConnecting to --port=/dev/cu.usbserial-8 --baud=115200 \u001b[0m\n",
      "\u001b[34mReady.\n",
      "\u001b[0m"
     ]
    }
   ],
   "source": [
    "%serialconnect --port=/dev/cu.usbserial-8 --baud=115200 \n",
    "\n",
    "import machine\n",
    "import display\n",
    "\n",
    "display = display.Display()"
   ]
  },
  {
   "cell_type": "code",
   "execution_count": 101,
   "metadata": {
    "vscode": {
     "languageId": "python"
    }
   },
   "outputs": [],
   "source": [
    "from micropython import const\n",
    "\n",
    "import uasyncio as asyncio\n",
    "import aioble\n",
    "from bluetooth import UUID\n",
    "\n",
    "import random\n",
    "import struct\n",
    "import json\n",
    "\n",
    "class BleClient:\n",
    "    SERVER_NAME = \"SnakeMultiplayer\"\n",
    "\n",
    "    SNAKE_SERVICE_UUID = UUID(\"ca07faee-7e95-4856-b44b-bbaef52ec7b4\")\n",
    "    \n",
    "    APPLE_POSITION_CHARACTERISTIC_UUID = UUID(\"cec23f9f-cdc0-4577-8798-8dd4b01724d8\")\n",
    "    SNAKE1_POSITIONS_CHARACTERISTIC_UUID = UUID(\"e72c988f-7279-4b82-b808-42884a4ba48f\")\n",
    "    SNAKE2_POSITIONS_CHARACTERISTIC_UUID = UUID(\"1673be03-ef60-4fb9-869c-4513a8e212f1\")\n",
    "    SNAKE2_DIRECTIONS_CHARACTERISTIC_UUID = UUID(\"1533130f-7251-4a87-a976-1b5bc0fae798\")\n",
    "\n",
    "    transmittedSnake1Tails = []\n",
    "    transmittedSnake2Tails = []\n",
    "    apple_position = None\n",
    "\n",
    "    def __init__(self) -> None:\n",
    "        self.snakeServiceConnection = None\n",
    "        self.snake1TailsCharacteristic = None\n",
    "        self.snake2TailsCharacteristic = None\n",
    "        self.snake2DirectionCharacteristic = None\n",
    "        self.applePositionCharacteristic = None\n",
    "\n",
    "    async def readSnake1Tails(self):\n",
    "        value = await self.snake1TailsCharacteristic.notified()\n",
    "        if (value):\n",
    "            data = list(json.loads(value))\n",
    "            snakeLength = int(data[0])\n",
    "            newSnakeTails = data[1]\n",
    "            for newTail in newSnakeTails:\n",
    "                self.transmittedSnake1Tails.append(newTail)\n",
    "            while len(self.transmittedSnake1Tails) > snakeLength:\n",
    "                self.transmittedSnake1Tails.pop(0)\n",
    "\n",
    "        return self.transmittedSnake1Tails\n",
    "    \n",
    "    async def readSnake2Tails(self):\n",
    "        value = await self.snake2TailsCharacteristic.notified()\n",
    "        if (value):\n",
    "            data = list(json.loads(value))\n",
    "            snakeLength = data[0]\n",
    "            newSnakeTails = data[1]\n",
    "\n",
    "            for i in range(0, len(newSnakeTails)):\n",
    "                self.transmittedSnake2Tails.append(newSnakeTails[i])\n",
    "\n",
    "            while len(self.transmittedSnake2Tails) > snakeLength:\n",
    "                self.transmittedSnake2Tails.pop(0)\n",
    "\n",
    "        return self.transmittedSnake2Tails\n",
    "    \n",
    "    async def readApplePosistion(self):\n",
    "        value = await self.applePositionCharacteristic.notified()\n",
    "        if (value):\n",
    "            newApplePos = list(json.loads(value))\n",
    "            self.applePosition = newApplePos\n",
    "\n",
    "        return self.applePosition\n",
    "    \n",
    "    async def writeSnake2Direction(self, newDirection: int):\n",
    "        data = struct.pack(\"<h\", newDirection)\n",
    "        await self.snake2DirectionCharacteristic.write(data)\n",
    "        print(\"Send new direction \" + str(newDirection))\n",
    "        \n",
    "    async def findServer(self):\n",
    "        if (self.snakeServiceConnection is not None):\n",
    "            return True\n",
    "        \n",
    "        async with aioble.scan(5000, interval_us=30000, window_us=30000, active=True) as scanner:\n",
    "            async for result in scanner:\n",
    "                if result.name() == self.SERVER_NAME and self.SNAKE_SERVICE_UUID in result.services():\n",
    "                    print(\"It's a match\")\n",
    "                    device = result.device\n",
    "                    connection = await device.connect()\n",
    "                    self.snakeServiceConnection = await connection.service(self.SNAKE_SERVICE_UUID)\n",
    "                    self.snake1TailsCharacteristic = await self.snakeServiceConnection.characteristic(self.SNAKE1_POSITIONS_CHARACTERISTIC_UUID)\n",
    "                    await self.snake1TailsCharacteristic.read()\n",
    "                    await self.snake1TailsCharacteristic.subscribe(notify=True, indicate=False)\n",
    "                    self.snake2TailsCharacteristic = await self.snakeServiceConnection.characteristic(self.SNAKE2_POSITIONS_CHARACTERISTIC_UUID)\n",
    "                    await self.snake2TailsCharacteristic.subscribe(notify=True, indicate=False)\n",
    "                    self.applePositionCharacteristic = await self.snakeServiceConnection.characteristic(self.APPLE_POSITION_CHARACTERISTIC_UUID)\n",
    "                    await self.applePositionCharacteristic.subscribe(notify=True, indicate=False)                    \n",
    "                    self.snake2DirectionCharacteristic = await self.snakeServiceConnection.characteristic(self.SNAKE2_DIRECTIONS_CHARACTERISTIC_UUID)\n",
    "                    return True\n",
    "            \n",
    "        return False"
   ]
  },
  {
   "cell_type": "code",
   "execution_count": 102,
   "metadata": {
    "vscode": {
     "languageId": "python"
    }
   },
   "outputs": [],
   "source": [
    "BLOCK_SIZE = 4\n",
    "\n",
    "DISPLAY_WIDTH = 128\n",
    "DISPLAY_HEIGHT = 64\n",
    "\n",
    "GAME_WIDTH = int(DISPLAY_WIDTH / BLOCK_SIZE)\n",
    "GAME_HEIGHT = int(DISPLAY_HEIGHT / BLOCK_SIZE)\n",
    "\n",
    "def drawScore(score):\n",
    "    display.text(\"Score \" + str(score), 0, 0)\n",
    "\n",
    "def drawGame(snake1, snake2, apple):\n",
    "    display.clear()\n",
    "    \n",
    "    for s1 in snake1:\n",
    "        drawPoint(s1[0], s1[1])\n",
    "    \n",
    "    for s2 in snake2:\n",
    "        drawPoint(s2[0], s2[1])\n",
    "\n",
    "    drawPoint(apple[0], apple[1])\n",
    "\n",
    "    drawScore(int((len(snake2)-2) / 2))\n",
    "\n",
    "    display.show()\n",
    "\n",
    "\n",
    "\n",
    "def drawPoint(x, y):\n",
    "    display.fill_rect(x * BLOCK_SIZE, y * BLOCK_SIZE, BLOCK_SIZE, BLOCK_SIZE)"
   ]
  },
  {
   "cell_type": "code",
   "execution_count": 103,
   "metadata": {
    "vscode": {
     "languageId": "python"
    }
   },
   "outputs": [
    {
     "name": "stdout",
     "output_type": "stream",
     "text": [
      "It's a match\n",
      ".Send new direction 0\n",
      "Send new direction 2\n",
      "Send new direction 3\n",
      "Send new direction 1\n",
      "Send new direction 3\n",
      ".Send new direction 0\n",
      "...."
     ]
    }
   ],
   "source": [
    "from time import sleep\n",
    "bleClient = BleClient()\n",
    "\n",
    "downBtn = Pin(14, Pin.IN, Pin.PULL_UP)\n",
    "rightBtn = Pin(21, Pin.IN, Pin.PULL_UP)\n",
    "leftBtn = Pin(18, Pin.IN, Pin.PULL_UP)\n",
    "upBtn = Pin(25, Pin.IN, Pin.PULL_UP)\n",
    "\n",
    "\n",
    "async def main():\n",
    "    global bleClient, drawGame\n",
    "    oldDirection = 1\n",
    "    direction = 1\n",
    "\n",
    "    while True:\n",
    "        result = await bleClient.findServer()\n",
    "        if result is False:\n",
    "            continue\n",
    "\n",
    "        if downBtn.value() == 0:\n",
    "            direction = 1\n",
    "        if rightBtn.value() == 0:\n",
    "            direction = 3\n",
    "        if leftBtn.value() == 0:\n",
    "            direction = 2\n",
    "        if upBtn.value() == 0:\n",
    "            direction = 0\n",
    "\n",
    "        if direction != oldDirection:\n",
    "            await bleClient.writeSnake2Direction(direction)\n",
    "            oldDirection = direction\n",
    "    \n",
    "\n",
    "        snake1Tails = await bleClient.readSnake1Tails()\n",
    "        snake2Tails = await bleClient.readSnake2Tails()\n",
    "        applePos = await bleClient.readApplePosistion()\n",
    "\n",
    "    \n",
    "        drawGame(snake1Tails, snake2Tails, applePos)\n",
    "\n",
    "        sleep(0.02)\n",
    "\n",
    "loop = asyncio.get_event_loop()\n",
    "loop.run_until_complete(main())"
   ]
  }
 ],
 "metadata": {
  "kernelspec": {
   "display_name": "MicroPython - USB",
   "language": "micropython",
   "name": "micropython"
  },
  "language_info": {
   "codemirror_mode": "python",
   "file_extension": ".py",
   "mimetype": "text/python",
   "name": "micropython"
  },
  "orig_nbformat": 4
 },
 "nbformat": 4,
 "nbformat_minor": 2
}
