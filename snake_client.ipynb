{
 "cells": [
  {
   "cell_type": "code",
   "execution_count": 20,
   "metadata": {
    "vscode": {
     "languageId": "python"
    }
   },
   "outputs": [
    {
     "name": "stdout",
     "output_type": "stream",
     "text": [
      "\u001b[34mConnecting to --port=/dev/cu.usbserial-7 --baud=115200 \u001b[0m\n",
      "\u001b[34mReady.\n",
      "\u001b[0m"
     ]
    }
   ],
   "source": [
    "%serialconnect --port=/dev/cu.usbserial-7 --baud=115200 \n",
    "\n",
    "import display\n",
    "\n",
    "display = display.Display()"
   ]
  },
  {
   "cell_type": "code",
   "execution_count": 21,
   "metadata": {
    "vscode": {
     "languageId": "python"
    }
   },
   "outputs": [],
   "source": [
    "import sys\n",
    "\n",
    "sys.path.append(\"\")\n",
    "\n",
    "from micropython import const\n",
    "\n",
    "import uasyncio as asyncio\n",
    "import aioble\n",
    "from bluetooth import UUID\n",
    "\n",
    "import random\n",
    "import struct\n",
    "import json\n",
    "\n",
    "class BleClient:\n",
    "    SERVER_NAME = \"SnakeMultiplayer\"\n",
    "    SNAKE_SERVICE_UUID = UUID(\"ca07faee-7e95-4856-b44b-bbaef52ec7b4\")\n",
    "    APPLE_POSITION_CHARACTERISTIC_UUID = UUID(\"cec23f9f-cdc0-4577-8798-8dd4b01724d8\")\n",
    "    SNAKE1_POSITIONS_CHARACTERISTIC_UUID = UUID(\"e72c988f-7279-4b82-b808-42884a4ba48f\")\n",
    "    SNAKE2_POSITIONS_CHARACTERISTIC_UUID = UUID(\"1673be03-ef60-4fb9-869c-4513a8e212f1\")\n",
    "    SNAKE2_DIRECTIONS_CHARACTERISTIC_UUID = UUID(\"1533130f-7251-4a87-a976-1b5bc0fae798\")\n",
    "\n",
    "    transmitted_snake1_tails = []\n",
    "    transmitted_snake2_tails = []\n",
    "\n",
    "    def __init__(self) -> None:\n",
    "        self.snake_service_connection = None\n",
    "        self.snake1_tails_characteristic = None\n",
    "        self.snake2_tails_characteristic = None\n",
    "        self.apple_position_characteristic = None\n",
    "\n",
    "    async def read_snake1_tails(self):\n",
    "        dir(self.snake1_tails_characteristic)\n",
    "        value = await self.snake1_tails_characteristic.read()\n",
    "        data = list(json.loads(value))\n",
    "        snakeLength = data[0]\n",
    "        newSnakeTails = data[1]\n",
    "\n",
    "        for i in range(0, len(newSnakeTails)):\n",
    "            self.transmitted_snake1_tails.append(newSnakeTails[i])\n",
    "\n",
    "        while len(self.transmitted_snake1_tails) > snakeLength:\n",
    "            self.transmitted_snake1_tails.pop(0)\n",
    "\n",
    "        return self.transmitted_snake1_tails\n",
    "    \n",
    "    async def read_snake2_tails(self):\n",
    "        value = await self.snake2_tails_characteristic.read()\n",
    "        print(value)\n",
    "        data = list(json.loads(value))\n",
    "        snakeLength = data[0]\n",
    "        newSnakeTails = data[1]\n",
    "\n",
    "        for i in range(0, len(newSnakeTails)):\n",
    "            self.transmitted_snake2_tails.append(newSnakeTails[i])\n",
    "\n",
    "        while len(self.transmitted_snake2_tails) > snakeLength:\n",
    "            self.transmitted_snake2_tails.pop(0)\n",
    "\n",
    "        return self.transmitted_snake2_tails\n",
    "    \n",
    "    async def read_apple_posistion(self):\n",
    "        # value = await self.apple_position_characteristic.read()\n",
    "        # return list(json.loads(value))\n",
    "        return [0,0]\n",
    "        \n",
    "\n",
    "    async def find_server(self):\n",
    "        if (self.snake_service_connection is not None):\n",
    "            return True\n",
    "        \n",
    "        async with aioble.scan(5000, interval_us=30000, window_us=30000, active=True) as scanner:\n",
    "            async for result in scanner:\n",
    "                if result.name() == self.SERVER_NAME and self.SNAKE_SERVICE_UUID in result.services():\n",
    "                    print(\"its a match\")\n",
    "                    device = result.device\n",
    "                    connection = await device.connect()\n",
    "                    self.snake_service_connection = await connection.service(self.SNAKE_SERVICE_UUID)\n",
    "                    self.snake1_tails_characteristic = await self.snake_service_connection.characteristic(self.SNAKE1_POSITIONS_CHARACTERISTIC_UUID)\n",
    "                    self.snake2_tails_characteristic = await self.snake_service_connection.characteristic(self.SNAKE2_POSITIONS_CHARACTERISTIC_UUID)\n",
    "                    self.apple_position_characteristic = await self.snake_service_connection.characteristic(self.APPLE_POSITION_CHARACTERISTIC_UUID)\n",
    "                    # await self.snake1_tails_characteristic.subscribe(notify=True)\n",
    "                    return True\n",
    "            \n",
    "        return False"
   ]
  },
  {
   "cell_type": "code",
   "execution_count": 22,
   "metadata": {
    "vscode": {
     "languageId": "python"
    }
   },
   "outputs": [],
   "source": [
    "BLOCK_SIZE = 4\n",
    "\n",
    "DISPLAY_WIDTH = 128\n",
    "DISPLAY_HEIGHT = 64\n",
    "\n",
    "GAME_WIDTH = int(DISPLAY_WIDTH / BLOCK_SIZE)\n",
    "GAME_HEIGHT = int(DISPLAY_HEIGHT / BLOCK_SIZE)\n",
    "\n",
    "def draw_game(snake1, snake2, apple):\n",
    "    \n",
    "    display.clear()\n",
    "    \n",
    "    display.text(\"Score\", 0, 0)\n",
    "    for s1 in snake1:\n",
    "        draw_point(s1[0], s1[1])\n",
    "    \n",
    "    for s2 in snake2:\n",
    "        draw_point(s2[0], s2[1])\n",
    "\n",
    "    draw_point(apple[0], apple[1])\n",
    "\n",
    "    display.show()\n",
    "\n",
    "\n",
    "\n",
    "def draw_point(x, y):\n",
    "    display.fill_rect(x * BLOCK_SIZE, y * BLOCK_SIZE, BLOCK_SIZE, BLOCK_SIZE)\n",
    "\n"
   ]
  },
  {
   "cell_type": "code",
   "execution_count": 23,
   "metadata": {
    "vscode": {
     "languageId": "python"
    }
   },
   "outputs": [
    {
     "name": "stdout",
     "output_type": "stream",
     "text": [
      "its a match\n"
     ]
    }
   ],
   "source": [
    "from time import sleep\n",
    "bleClient = BleClient()\n",
    "\n",
    "oldSnake1Tails = []\n",
    "\n",
    "async def main():\n",
    "    global bleClient, draw_game\n",
    "\n",
    "    while True:\n",
    "        result = await bleClient.find_server()\n",
    "        if result is False:\n",
    "            continue\n",
    "\n",
    "        snake1Tails = await bleClient.read_snake1_tails()\n",
    "        snake2Tails = await bleClient.read_snake2_tails()\n",
    "        applePos = await bleClient.read_apple_posistion()\n",
    "    \n",
    "        print(snake1Tails)\n",
    "\n",
    "\n",
    "\n",
    "\n",
    "        draw_game(snake1Tails, snake2Tails, applePos)\n",
    "\n",
    "        sleep(0.02)\n",
    "\n",
    "loop = asyncio.get_event_loop()\n",
    "loop.run_until_complete(main())"
   ]
  },
  {
   "cell_type": "code",
   "execution_count": null,
   "metadata": {
    "vscode": {
     "languageId": "python"
    }
   },
   "outputs": [
    {
     "name": "stdout",
     "output_type": "stream",
     "text": [
      "\u001b[31mNo serial connected\n",
      "\u001b[0m  %serialconnect to connect\n",
      "  %esptool to flash the device\n",
      "  %lsmagic to list commands"
     ]
    }
   ],
   "source": [
    "# import sys\n",
    "\n",
    "# sys.path.append(\"\")\n",
    "\n",
    "# from micropython import const\n",
    "\n",
    "# import uasyncio as asyncio\n",
    "# import aioble\n",
    "# import bluetooth\n",
    "\n",
    "# import random\n",
    "# import struct\n",
    "\n",
    "# # org.bluetooth.service.environmental_sensing\n",
    "# _ENV_SENSE_UUID = bluetooth.UUID(0x181A)\n",
    "# # org.bluetooth.characteristic.temperature\n",
    "# _ENV_SENSE_TEMP_UUID = bluetooth.UUID(0x2A6E)\n",
    "\n",
    "\n",
    "# # Helper to decode the temperature characteristic encoding (sint16, hundredths of a degree).\n",
    "# def _decode_temperature(data):\n",
    "#     return struct.unpack(\"<h\", data)[0] / 100\n",
    "\n",
    "\n",
    "# async def find_temp_sensor():\n",
    "#     # Scan for 5 seconds, in active mode, with very low interval/window (to\n",
    "#     # maximise detection rate).\n",
    "#     async with aioble.scan(5000, interval_us=30000, window_us=30000, active=True) as scanner:\n",
    "#         async for result in scanner:\n",
    "#             # See if it matches our name and the environmental sensing service.\n",
    "#             if result.name() == \"mpy-temp\" and _ENV_SENSE_UUID in result.services():\n",
    "#                 return result.device\n",
    "#     return None\n",
    "\n",
    "\n",
    "# async def main():\n",
    "#     device = await find_temp_sensor()\n",
    "#     if not device:\n",
    "#         print(\"Temperature sensor not found\")\n",
    "#         return\n",
    "\n",
    "#     try:\n",
    "#         print(\"Connecting to\", device)\n",
    "#         connection = await device.connect()\n",
    "#     except asyncio.TimeoutError:\n",
    "#         print(\"Timeout during connection\")\n",
    "#         return\n",
    "\n",
    "#     async with connection:\n",
    "#         try:\n",
    "#             temp_service = await connection.service(_ENV_SENSE_UUID)\n",
    "#             temp_characteristic = await temp_service.characteristic(_ENV_SENSE_TEMP_UUID)\n",
    "#         except asyncio.TimeoutError:\n",
    "#             print(\"Timeout discovering services/characteristics\")\n",
    "#             return\n",
    "\n",
    "#         while True:\n",
    "#             temp_deg_c = _decode_temperature(await temp_characteristic.read())\n",
    "#             print(\"Temperature: {:.2f}\".format(temp_deg_c))\n",
    "#             await asyncio.sleep_ms(1000)\n",
    "\n",
    "\n",
    "# asyncio.run(main())"
   ]
  }
 ],
 "metadata": {
  "kernelspec": {
   "display_name": "MicroPython - USB",
   "language": "micropython",
   "name": "micropython"
  },
  "language_info": {
   "codemirror_mode": "python",
   "file_extension": ".py",
   "mimetype": "text/python",
   "name": "micropython"
  },
  "orig_nbformat": 4
 },
 "nbformat": 4,
 "nbformat_minor": 2
}
