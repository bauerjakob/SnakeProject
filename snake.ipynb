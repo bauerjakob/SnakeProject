{
 "cells": [
  {
   "attachments": {},
   "cell_type": "markdown",
   "metadata": {},
   "source": [
    "# Snake Multiplayer"
   ]
  },
  {
   "cell_type": "code",
   "execution_count": 324,
   "metadata": {
    "vscode": {
     "languageId": "python"
    }
   },
   "outputs": [
    {
     "name": "stdout",
     "output_type": "stream",
     "text": [
      "Found serial ports: /dev/cu.usbserial-0001, /dev/cu.AVSamsungSoundbarT4-Ser, /dev/cu.Bluetooth-Incoming-Port, /dev/cu.Jakobthesuperbrain, /dev/cu.OnkyoCR-265, /dev/cu.wlan-debug \n",
      "\u001b[34mConnecting to --port=/dev/cu.usbserial-0001 --baud=115200 \u001b[0m\n",
      "\u001b[34mReady.\n",
      "\u001b[0m"
     ]
    }
   ],
   "source": [
    "%serialconnect"
   ]
  },
  {
   "cell_type": "code",
   "execution_count": 325,
   "metadata": {
    "vscode": {
     "languageId": "python"
    }
   },
   "outputs": [],
   "source": [
    "import machine\n",
    "import display\n",
    "import random\n",
    "\n",
    "from time import sleep\n",
    "\n",
    "display = display.Display()"
   ]
  },
  {
   "cell_type": "code",
   "execution_count": 326,
   "metadata": {
    "vscode": {
     "languageId": "python"
    }
   },
   "outputs": [],
   "source": [
    "class Coordinate:\n",
    "    x: int\n",
    "    y: int\n",
    "\n",
    "    def __init__(self, x, y):\n",
    "        self.x = x\n",
    "        self.y = y\n"
   ]
  },
  {
   "cell_type": "code",
   "execution_count": 327,
   "metadata": {
    "vscode": {
     "languageId": "python"
    }
   },
   "outputs": [],
   "source": [
    "class Playground:\n",
    "    DISPLAY_WIDTH = 128\n",
    "    DISPLAY_HEIGHT = 64\n",
    "\n",
    "    BLOCK_SIZE = 4\n",
    "\n",
    "    GAME_WIDTH = int(DISPLAY_WIDTH / BLOCK_SIZE)\n",
    "    GAME_HEIGHT = int(DISPLAY_HEIGHT / BLOCK_SIZE)\n",
    "\n",
    "    def __init__(self):\n",
    "        pass\n",
    "\n",
    "    def draw_coordinate(self, coordintate: Coordinate):\n",
    "        display.fill_rect(coordintate.x * self.BLOCK_SIZE, coordintate.y * self.BLOCK_SIZE, self.BLOCK_SIZE , self.BLOCK_SIZE)"
   ]
  },
  {
   "cell_type": "code",
   "execution_count": null,
   "metadata": {
    "vscode": {
     "languageId": "python"
    }
   },
   "outputs": [],
   "source": [
    "class Apple:\n",
    "    playground: Playground\n",
    "    coordinate: Coordinate\n",
    "\n",
    "    def __init__(self, playground):\n",
    "        self.playground = playground\n",
    "        x = random.randint(0, self.playground.GAME_WIDTH - 1)\n",
    "        y = random.randint(0, self.playground.GAME_HEIGHT - 1)\n",
    "        self.coordinate = Coordinate(x, y)\n",
    "    \n",
    "    def draw_apple(self):\n",
    "        self.playground.draw_coordinate(self.coordinate)"
   ]
  },
  {
   "cell_type": "code",
   "execution_count": 329,
   "metadata": {
    "vscode": {
     "languageId": "python"
    }
   },
   "outputs": [],
   "source": [
    "class Snake:\n",
    "    playground: Playground\n",
    "\n",
    "    def __init__(self, playground: Playground, startPos: Coordinate):\n",
    "        self.tails = []\n",
    "        self.length = 10\n",
    "        self.direction = 2 # 0 = up, 1 down, 2 left, 3 right\n",
    "\n",
    "        self.tails.append(startPos)\n",
    "        print(self.tails)\n",
    "        self.playground = playground\n",
    "\n",
    "    def change_direction(self, newDirection):\n",
    "        self.direction = newDirection\n",
    "\n",
    "    def moove_snake(self):\n",
    "        head = self.tails[-1]\n",
    "        newPos = Coordinate(head.x, head.y)\n",
    "\n",
    "        if (self.direction == 0):\n",
    "            newPos.y = head.y - 1\n",
    "            if newPos.y < 0:\n",
    "                newPos.y = self.playground.GAME_HEIGHT - 1\n",
    "        elif (self.direction == 1):\n",
    "            newPos.y = head.y + 1\n",
    "            if newPos.y >= self.playground.GAME_HEIGHT:\n",
    "                newPos.y = 0\n",
    "        elif (self.direction == 2):\n",
    "            newPos.x = head.x - 1\n",
    "            if newPos.x < 0:\n",
    "                newPos.x = self.playground.GAME_WIDTH - 1\n",
    "        elif (self.direction == 3):\n",
    "            newPos.x = head.x + 1\n",
    "            if newPos.x >= self.playground.GAME_WIDTH:\n",
    "                newPos.x = 0\n",
    "\n",
    "        if (len(self.tails) >= self.length):\n",
    "            self.tails.pop(0)\n",
    "\n",
    "        self.tails.append(newPos)\n",
    "\n",
    "    def detect_apple_colision(self, apple: Apple) -> bool:\n",
    "        collisionDetected = self.detect_colision(apple.coordinate)\n",
    "        if collisionDetected:\n",
    "            self.length += 2\n",
    "    \n",
    "        return collisionDetected\n",
    "    \n",
    "    def detect_game_over(self):\n",
    "        head = self.tails[-1]\n",
    "        \n",
    "        for pos in self.tails[0:-1]:\n",
    "            if pos.x == head.x and pos.y == head.y:\n",
    "                for i in range(0, max(5, len(self.tails) - 5)):\n",
    "                    self.tails.pop()\n",
    "                self.length = 5\n",
    "\n",
    "\n",
    "    def detect_colision(self, coordinate) -> bool:\n",
    "        head = self.tails[-1]\n",
    "        return head.x == coordinate.x and head.y == coordinate.y\n",
    "\n",
    "    def draw_snake(self):\n",
    "        for tail in self.tails:\n",
    "            self.playground.draw_coordinate(tail)"
   ]
  },
  {
   "cell_type": "code",
   "execution_count": 330,
   "metadata": {
    "vscode": {
     "languageId": "python"
    }
   },
   "outputs": [
    {
     "name": "stdout",
     "output_type": "stream",
     "text": [
      "[<Coordinate object at 3fffb950>]\n",
      "[<Coordinate object at 3fffbc00>]\n",
      "..\u001b[34m\n",
      "\n",
      "*** Sending Ctrl-C\n",
      "\n",
      "\u001b[0m"
     ]
    },
    {
     "name": "stderr",
     "output_type": "stream",
     "text": [
      "Traceback (most recent call last):\n",
      "  File \"<stdin>\", line 38, in <module>\n",
      "KeyboardInterrupt: \n"
     ]
    }
   ],
   "source": [
    "playground = Playground()\n",
    "\n",
    "snake = Snake(playground, Coordinate(0, 0))\n",
    "snake2 = Snake(playground, Coordinate(10, 20))\n",
    "\n",
    "apple = Apple(playground)\n",
    "\n",
    "downBtn = Pin(14, Pin.IN, Pin.PULL_UP)\n",
    "rightBtn = Pin(21, Pin.IN, Pin.PULL_UP)\n",
    "leftBtn = Pin(18, Pin.IN, Pin.PULL_UP)\n",
    "upBtn = Pin(25, Pin.IN, Pin.PULL_UP)\n",
    "\n",
    "while True:\n",
    "    if downBtn.value() == 0:\n",
    "        snake.change_direction(1)#\n",
    "    if rightBtn.value() == 0:\n",
    "        snake.change_direction(3)\n",
    "    if leftBtn.value() == 0:\n",
    "        snake.change_direction(2)\n",
    "    if upBtn.value() == 0:\n",
    "        snake.change_direction(0)\n",
    "\n",
    "    display.clear()\n",
    "    apple.draw_apple()\n",
    "    snake.moove_snake()\n",
    "    snake.draw_snake()\n",
    "    if snake.detect_apple_colision(apple):\n",
    "        apple = Apple(playground)\n",
    "    snake.detect_game_over()\n",
    "\n",
    "    snake2.moove_snake()\n",
    "    snake2.draw_snake()\n",
    "    if snake2.detect_apple_colision(apple):\n",
    "        apple = Apple(playground)\n",
    "    snake2.detect_game_over()\n",
    "\n",
    "    display.show()\n",
    "    sleep(0.1)"
   ]
  }
 ],
 "metadata": {
  "kernelspec": {
   "display_name": "MicroPython - USB",
   "language": "micropython",
   "name": "micropython"
  },
  "language_info": {
   "codemirror_mode": "python",
   "file_extension": ".py",
   "mimetype": "text/python",
   "name": "micropython"
  },
  "orig_nbformat": 4
 },
 "nbformat": 4,
 "nbformat_minor": 2
}
